{
  "nbformat": 4,
  "nbformat_minor": 0,
  "metadata": {
    "colab": {
      "provenance": [],
      "authorship_tag": "ABX9TyPytyB9Ra108U944FTE9unv",
      "include_colab_link": true
    },
    "kernelspec": {
      "name": "python3",
      "display_name": "Python 3"
    },
    "language_info": {
      "name": "python"
    }
  },
  "cells": [
    {
      "cell_type": "markdown",
      "metadata": {
        "id": "view-in-github",
        "colab_type": "text"
      },
      "source": [
        "<a href=\"https://colab.research.google.com/github/AparnaR06/Computer-networks/blob/main/Face_Recognition_using_CNN.ipynb\" target=\"_parent\"><img src=\"https://colab.research.google.com/assets/colab-badge.svg\" alt=\"Open In Colab\"/></a>"
      ]
    },
    {
      "cell_type": "code",
      "source": [
        "import numpy as np\n",
        "import matplotlib.pyplot as plt\n",
        "from sklearn.datasets import fetch_lfw_people\n",
        "from sklearn.model_selection import train_test_split\n",
        "from tensorflow.keras.utils import to_categorical\n",
        "from tensorflow.keras.models import Sequential\n",
        "from tensorflow.keras.layers import Conv2D, MaxPooling2D, Flatten, Dense, Dropout, BatchNormalization\n",
        "from tensorflow.keras.optimizers import Adam\n",
        "from tensorflow.keras.callbacks import EarlyStopping, ReduceLROnPlateau\n",
        "\n",
        "# Step 1: Load dataset\n",
        "lfw_data = fetch_lfw_people(min_faces_per_person=70, resize=0.4)\n",
        "X = lfw_data.images\n",
        "y = lfw_data.target\n",
        "target_names = lfw_data.target_names\n",
        "n_classes = len(target_names)\n",
        "\n",
        "# Step 2: Preprocessing\n",
        "X = X.reshape(-1, X.shape[1], X.shape[2], 1) / 255.0\n",
        "y = to_categorical(y, n_classes)\n",
        "\n",
        "# Step 3: Train-test split\n",
        "X_train, X_test, y_train, y_test = train_test_split(X, y, test_size=0.2, random_state=42)\n",
        "\n",
        "# Step 4: Model building\n",
        "model = Sequential([\n",
        "    Conv2D(32, (3, 3), activation='relu', input_shape=X.shape[1:]),\n",
        "    BatchNormalization(),\n",
        "    MaxPooling2D(2, 2),\n",
        "\n",
        "    Conv2D(64, (3, 3), activation='relu'),\n",
        "    BatchNormalization(),\n",
        "    MaxPooling2D(2, 2),\n",
        "\n",
        "    Conv2D(128, (3, 3), activation='relu'),\n",
        "    BatchNormalization(),\n",
        "    MaxPooling2D(2, 2),\n",
        "\n",
        "    Flatten(),\n",
        "    Dense(256, activation='relu'),\n",
        "    Dropout(0.5),\n",
        "    Dense(n_classes, activation='softmax')\n",
        "])\n",
        "\n",
        "# Step 5: Compilation\n",
        "model.compile(optimizer=Adam(learning_rate=0.001),\n",
        "              loss='categorical_crossentropy',\n",
        "              metrics=['accuracy'])\n",
        "\n",
        "# Step 6: Callbacks\n",
        "early_stop = EarlyStopping(monitor='val_loss', patience=4, restore_best_weights=True)\n",
        "reduce_lr = ReduceLROnPlateau(monitor='val_loss', patience=2, factor=0.5)\n",
        "\n",
        "# Step 7: Training\n",
        "history = model.fit(X_train, y_train,\n",
        "                    epochs=25,\n",
        "                    batch_size=32,\n",
        "                    validation_data=(X_test, y_test),\n",
        "                    callbacks=[early_stop, reduce_lr])\n",
        "\n",
        "# Step 8: Evaluation\n",
        "test_loss, test_acc = model.evaluate(X_test, y_test)\n",
        "print(f\"Test Accuracy: {test_acc:.2f}\")\n",
        "\n",
        "# Step 9: Prediction function\n",
        "def predict_and_display(index):\n",
        "    sample = X_test[index].reshape(1, X.shape[1], X.shape[2], 1)\n",
        "    prediction = model.predict(sample)\n",
        "    predicted_label = target_names[np.argmax(prediction)]\n",
        "    actual_label = target_names[np.argmax(y_test[index])]\n",
        "    plt.imshow(X_test[index].reshape(X.shape[1], X.shape[2]), cmap='gray')\n",
        "    plt.title(f\"Predicted: {predicted_label}\\nActual: {actual_label}\")\n",
        "    plt.axis('off')\n",
        "    plt.show()\n",
        "\n",
        "# Example: Show prediction\n",
        "predict_and_display(0)\n",
        "\n",
        "# ✅ Step 10: Save model in modern format (.keras)\n",
        "model.save(\"lfw_cnn_model_improved.keras\")\n"
      ],
      "metadata": {
        "colab": {
          "base_uri": "https://localhost:8080/",
          "height": 675
        },
        "id": "ookmWgbwThdy",
        "outputId": "bf8bd908-d68f-4f12-ea8c-9d016427c013"
      },
      "execution_count": 2,
      "outputs": [
        {
          "output_type": "stream",
          "name": "stdout",
          "text": [
            "Epoch 1/25\n",
            "\u001b[1m33/33\u001b[0m \u001b[32m━━━━━━━━━━━━━━━━━━━━\u001b[0m\u001b[37m\u001b[0m \u001b[1m5s\u001b[0m 75ms/step - accuracy: 0.3532 - loss: 2.1261 - val_accuracy: 0.1822 - val_loss: 1.9394 - learning_rate: 0.0010\n",
            "Epoch 2/25\n",
            "\u001b[1m33/33\u001b[0m \u001b[32m━━━━━━━━━━━━━━━━━━━━\u001b[0m\u001b[37m\u001b[0m \u001b[1m2s\u001b[0m 68ms/step - accuracy: 0.5754 - loss: 1.2244 - val_accuracy: 0.1822 - val_loss: 1.9502 - learning_rate: 0.0010\n",
            "Epoch 3/25\n",
            "\u001b[1m33/33\u001b[0m \u001b[32m━━━━━━━━━━━━━━━━━━━━\u001b[0m\u001b[37m\u001b[0m \u001b[1m3s\u001b[0m 76ms/step - accuracy: 0.7300 - loss: 0.7944 - val_accuracy: 0.1047 - val_loss: 2.0079 - learning_rate: 0.0010\n",
            "Epoch 4/25\n",
            "\u001b[1m33/33\u001b[0m \u001b[32m━━━━━━━━━━━━━━━━━━━━\u001b[0m\u001b[37m\u001b[0m \u001b[1m3s\u001b[0m 87ms/step - accuracy: 0.7892 - loss: 0.5743 - val_accuracy: 0.1047 - val_loss: 2.0518 - learning_rate: 5.0000e-04\n",
            "Epoch 5/25\n",
            "\u001b[1m33/33\u001b[0m \u001b[32m━━━━━━━━━━━━━━━━━━━━\u001b[0m\u001b[37m\u001b[0m \u001b[1m4s\u001b[0m 69ms/step - accuracy: 0.8806 - loss: 0.3694 - val_accuracy: 0.1047 - val_loss: 2.0904 - learning_rate: 5.0000e-04\n",
            "\u001b[1m9/9\u001b[0m \u001b[32m━━━━━━━━━━━━━━━━━━━━\u001b[0m\u001b[37m\u001b[0m \u001b[1m0s\u001b[0m 17ms/step - accuracy: 0.1765 - loss: 1.9393\n",
            "Test Accuracy: 0.18\n",
            "\u001b[1m1/1\u001b[0m \u001b[32m━━━━━━━━━━━━━━━━━━━━\u001b[0m\u001b[37m\u001b[0m \u001b[1m0s\u001b[0m 108ms/step\n"
          ]
        },
        {
          "output_type": "display_data",
          "data": {
            "text/plain": [
              "<Figure size 640x480 with 1 Axes>"
            ],
            "image/png": "[encoded data removed]"
          },
          "metadata": {}
        }
      ]
    }
  ]
}